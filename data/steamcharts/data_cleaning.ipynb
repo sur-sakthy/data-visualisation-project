{
  "nbformat": 4,
  "nbformat_minor": 0,
  "metadata": {
    "colab": {
      "provenance": [],
      "collapsed_sections": [],
      "authorship_tag": "ABX9TyN4HPHSrvCVxyxzIU8u3Dge",
      "include_colab_link": true
    },
    "kernelspec": {
      "name": "python3",
      "display_name": "Python 3"
    },
    "language_info": {
      "name": "python"
    }
  },
  "cells": [
    {
      "cell_type": "markdown",
      "metadata": {
        "id": "view-in-github",
        "colab_type": "text"
      },
      "source": [
        "<a href=\"https://colab.research.google.com/github/sur-sakthy/data-visualisation-project/blob/main/data/steamcharts/data_cleaning.ipynb\" target=\"_parent\"><img src=\"https://colab.research.google.com/assets/colab-badge.svg\" alt=\"Open In Colab\"/></a>"
      ]
    },
    {
      "cell_type": "code",
      "execution_count": 1,
      "metadata": {
        "id": "_J7VGiTEEcMi"
      },
      "outputs": [],
      "source": [
        "# Code to read csv file into Colaboratory:\n",
        "!pip install -U -q PyDrive\n",
        "from pydrive.auth import GoogleAuth\n",
        "from pydrive.drive import GoogleDrive\n",
        "from google.colab import auth, files\n",
        "from oauth2client.client import GoogleCredentials\n",
        "\n",
        "# Authenticate and create the PyDrive client.\n",
        "auth.authenticate_user()\n",
        "gauth = GoogleAuth()\n",
        "gauth.credentials = GoogleCredentials.get_application_default()\n",
        "drive = GoogleDrive(gauth)"
      ]
    },
    {
      "cell_type": "code",
      "source": [
        "import pandas as pd"
      ],
      "metadata": {
        "id": "DSV-cXiTE5Xf"
      },
      "execution_count": 3,
      "outputs": []
    },
    {
      "cell_type": "code",
      "source": [
        "shareable_link = 'https://drive.google.com/file/d/1V1Oc-NnOy9mztovhr1KeQ7Z8KSqp123K/view?usp=share_link'\n",
        "\n",
        "downloaded = drive.CreateFile({'id':'1V1Oc-NnOy9mztovhr1KeQ7Z8KSqp123K'}) \n",
        "downloaded.GetContentFile('steam_charts.csv')  \n",
        "data = pd.read_csv('steam_charts.csv')\n",
        "data"
      ],
      "metadata": {
        "colab": {
          "base_uri": "https://localhost:8080/",
          "height": 424
        },
        "id": "DCpyXKSiEohg",
        "outputId": "b84f6960-f39b-425c-d90f-ab3ba7b1c308"
      },
      "execution_count": 44,
      "outputs": [
        {
          "output_type": "execute_result",
          "data": {
            "text/plain": [
              "       Unnamed: 0           month  averagePlayers    gain  gainInPercent  \\\n",
              "0               0    Last 30 Days          118.16   38.60          48.50   \n",
              "1               1  September 2022           79.56   -5.66          -6.64   \n",
              "2               2     August 2022           85.22   -8.35          -8.93   \n",
              "3               3       July 2022           93.58   -8.48          -8.31   \n",
              "4               4       June 2022          102.05  -61.94         -37.77   \n",
              "...           ...             ...             ...     ...            ...   \n",
              "21282         119   November 2012          157.47    2.12           1.37   \n",
              "21283         120    October 2012          155.35  -61.41         -28.33   \n",
              "21284         121  September 2012          216.76  -19.78          -8.36   \n",
              "21285         122     August 2012          236.53 -115.83         -32.87   \n",
              "21286         123       July 2012          352.36     NaN            NaN   \n",
              "\n",
              "       peakPlayers       id        name  playingTwelveHoursAgo  \\\n",
              "0              437  1291340  Townscaper                     54   \n",
              "1              384  1291340  Townscaper                     54   \n",
              "2              169  1291340  Townscaper                     54   \n",
              "3              208  1291340  Townscaper                     54   \n",
              "4              213  1291340  Townscaper                     54   \n",
              "...            ...      ...         ...                    ...   \n",
              "21282          356       70   Half-Life                    460   \n",
              "21283          345       70   Half-Life                    460   \n",
              "21284          464       70   Half-Life                    460   \n",
              "21285          419       70   Half-Life                    460   \n",
              "21286          674       70   Half-Life                    460   \n",
              "\n",
              "       twentyFourHourPeek  allTimePeek  \n",
              "0                      93         1162  \n",
              "1                      93         1162  \n",
              "2                      93         1162  \n",
              "3                      93         1162  \n",
              "4                      93         1162  \n",
              "...                   ...          ...  \n",
              "21282                 590        10480  \n",
              "21283                 590        10480  \n",
              "21284                 590        10480  \n",
              "21285                 590        10480  \n",
              "21286                 590        10480  \n",
              "\n",
              "[21287 rows x 11 columns]"
            ],
            "text/html": [
              "\n",
              "  <div id=\"df-bd06c15a-bc7b-4b6f-9368-749828324054\">\n",
              "    <div class=\"colab-df-container\">\n",
              "      <div>\n",
              "<style scoped>\n",
              "    .dataframe tbody tr th:only-of-type {\n",
              "        vertical-align: middle;\n",
              "    }\n",
              "\n",
              "    .dataframe tbody tr th {\n",
              "        vertical-align: top;\n",
              "    }\n",
              "\n",
              "    .dataframe thead th {\n",
              "        text-align: right;\n",
              "    }\n",
              "</style>\n",
              "<table border=\"1\" class=\"dataframe\">\n",
              "  <thead>\n",
              "    <tr style=\"text-align: right;\">\n",
              "      <th></th>\n",
              "      <th>Unnamed: 0</th>\n",
              "      <th>month</th>\n",
              "      <th>averagePlayers</th>\n",
              "      <th>gain</th>\n",
              "      <th>gainInPercent</th>\n",
              "      <th>peakPlayers</th>\n",
              "      <th>id</th>\n",
              "      <th>name</th>\n",
              "      <th>playingTwelveHoursAgo</th>\n",
              "      <th>twentyFourHourPeek</th>\n",
              "      <th>allTimePeek</th>\n",
              "    </tr>\n",
              "  </thead>\n",
              "  <tbody>\n",
              "    <tr>\n",
              "      <th>0</th>\n",
              "      <td>0</td>\n",
              "      <td>Last 30 Days</td>\n",
              "      <td>118.16</td>\n",
              "      <td>38.60</td>\n",
              "      <td>48.50</td>\n",
              "      <td>437</td>\n",
              "      <td>1291340</td>\n",
              "      <td>Townscaper</td>\n",
              "      <td>54</td>\n",
              "      <td>93</td>\n",
              "      <td>1162</td>\n",
              "    </tr>\n",
              "    <tr>\n",
              "      <th>1</th>\n",
              "      <td>1</td>\n",
              "      <td>September 2022</td>\n",
              "      <td>79.56</td>\n",
              "      <td>-5.66</td>\n",
              "      <td>-6.64</td>\n",
              "      <td>384</td>\n",
              "      <td>1291340</td>\n",
              "      <td>Townscaper</td>\n",
              "      <td>54</td>\n",
              "      <td>93</td>\n",
              "      <td>1162</td>\n",
              "    </tr>\n",
              "    <tr>\n",
              "      <th>2</th>\n",
              "      <td>2</td>\n",
              "      <td>August 2022</td>\n",
              "      <td>85.22</td>\n",
              "      <td>-8.35</td>\n",
              "      <td>-8.93</td>\n",
              "      <td>169</td>\n",
              "      <td>1291340</td>\n",
              "      <td>Townscaper</td>\n",
              "      <td>54</td>\n",
              "      <td>93</td>\n",
              "      <td>1162</td>\n",
              "    </tr>\n",
              "    <tr>\n",
              "      <th>3</th>\n",
              "      <td>3</td>\n",
              "      <td>July 2022</td>\n",
              "      <td>93.58</td>\n",
              "      <td>-8.48</td>\n",
              "      <td>-8.31</td>\n",
              "      <td>208</td>\n",
              "      <td>1291340</td>\n",
              "      <td>Townscaper</td>\n",
              "      <td>54</td>\n",
              "      <td>93</td>\n",
              "      <td>1162</td>\n",
              "    </tr>\n",
              "    <tr>\n",
              "      <th>4</th>\n",
              "      <td>4</td>\n",
              "      <td>June 2022</td>\n",
              "      <td>102.05</td>\n",
              "      <td>-61.94</td>\n",
              "      <td>-37.77</td>\n",
              "      <td>213</td>\n",
              "      <td>1291340</td>\n",
              "      <td>Townscaper</td>\n",
              "      <td>54</td>\n",
              "      <td>93</td>\n",
              "      <td>1162</td>\n",
              "    </tr>\n",
              "    <tr>\n",
              "      <th>...</th>\n",
              "      <td>...</td>\n",
              "      <td>...</td>\n",
              "      <td>...</td>\n",
              "      <td>...</td>\n",
              "      <td>...</td>\n",
              "      <td>...</td>\n",
              "      <td>...</td>\n",
              "      <td>...</td>\n",
              "      <td>...</td>\n",
              "      <td>...</td>\n",
              "      <td>...</td>\n",
              "    </tr>\n",
              "    <tr>\n",
              "      <th>21282</th>\n",
              "      <td>119</td>\n",
              "      <td>November 2012</td>\n",
              "      <td>157.47</td>\n",
              "      <td>2.12</td>\n",
              "      <td>1.37</td>\n",
              "      <td>356</td>\n",
              "      <td>70</td>\n",
              "      <td>Half-Life</td>\n",
              "      <td>460</td>\n",
              "      <td>590</td>\n",
              "      <td>10480</td>\n",
              "    </tr>\n",
              "    <tr>\n",
              "      <th>21283</th>\n",
              "      <td>120</td>\n",
              "      <td>October 2012</td>\n",
              "      <td>155.35</td>\n",
              "      <td>-61.41</td>\n",
              "      <td>-28.33</td>\n",
              "      <td>345</td>\n",
              "      <td>70</td>\n",
              "      <td>Half-Life</td>\n",
              "      <td>460</td>\n",
              "      <td>590</td>\n",
              "      <td>10480</td>\n",
              "    </tr>\n",
              "    <tr>\n",
              "      <th>21284</th>\n",
              "      <td>121</td>\n",
              "      <td>September 2012</td>\n",
              "      <td>216.76</td>\n",
              "      <td>-19.78</td>\n",
              "      <td>-8.36</td>\n",
              "      <td>464</td>\n",
              "      <td>70</td>\n",
              "      <td>Half-Life</td>\n",
              "      <td>460</td>\n",
              "      <td>590</td>\n",
              "      <td>10480</td>\n",
              "    </tr>\n",
              "    <tr>\n",
              "      <th>21285</th>\n",
              "      <td>122</td>\n",
              "      <td>August 2012</td>\n",
              "      <td>236.53</td>\n",
              "      <td>-115.83</td>\n",
              "      <td>-32.87</td>\n",
              "      <td>419</td>\n",
              "      <td>70</td>\n",
              "      <td>Half-Life</td>\n",
              "      <td>460</td>\n",
              "      <td>590</td>\n",
              "      <td>10480</td>\n",
              "    </tr>\n",
              "    <tr>\n",
              "      <th>21286</th>\n",
              "      <td>123</td>\n",
              "      <td>July 2012</td>\n",
              "      <td>352.36</td>\n",
              "      <td>NaN</td>\n",
              "      <td>NaN</td>\n",
              "      <td>674</td>\n",
              "      <td>70</td>\n",
              "      <td>Half-Life</td>\n",
              "      <td>460</td>\n",
              "      <td>590</td>\n",
              "      <td>10480</td>\n",
              "    </tr>\n",
              "  </tbody>\n",
              "</table>\n",
              "<p>21287 rows × 11 columns</p>\n",
              "</div>\n",
              "      <button class=\"colab-df-convert\" onclick=\"convertToInteractive('df-bd06c15a-bc7b-4b6f-9368-749828324054')\"\n",
              "              title=\"Convert this dataframe to an interactive table.\"\n",
              "              style=\"display:none;\">\n",
              "        \n",
              "  <svg xmlns=\"http://www.w3.org/2000/svg\" height=\"24px\"viewBox=\"0 0 24 24\"\n",
              "       width=\"24px\">\n",
              "    <path d=\"M0 0h24v24H0V0z\" fill=\"none\"/>\n",
              "    <path d=\"M18.56 5.44l.94 2.06.94-2.06 2.06-.94-2.06-.94-.94-2.06-.94 2.06-2.06.94zm-11 1L8.5 8.5l.94-2.06 2.06-.94-2.06-.94L8.5 2.5l-.94 2.06-2.06.94zm10 10l.94 2.06.94-2.06 2.06-.94-2.06-.94-.94-2.06-.94 2.06-2.06.94z\"/><path d=\"M17.41 7.96l-1.37-1.37c-.4-.4-.92-.59-1.43-.59-.52 0-1.04.2-1.43.59L10.3 9.45l-7.72 7.72c-.78.78-.78 2.05 0 2.83L4 21.41c.39.39.9.59 1.41.59.51 0 1.02-.2 1.41-.59l7.78-7.78 2.81-2.81c.8-.78.8-2.07 0-2.86zM5.41 20L4 18.59l7.72-7.72 1.47 1.35L5.41 20z\"/>\n",
              "  </svg>\n",
              "      </button>\n",
              "      \n",
              "  <style>\n",
              "    .colab-df-container {\n",
              "      display:flex;\n",
              "      flex-wrap:wrap;\n",
              "      gap: 12px;\n",
              "    }\n",
              "\n",
              "    .colab-df-convert {\n",
              "      background-color: #E8F0FE;\n",
              "      border: none;\n",
              "      border-radius: 50%;\n",
              "      cursor: pointer;\n",
              "      display: none;\n",
              "      fill: #1967D2;\n",
              "      height: 32px;\n",
              "      padding: 0 0 0 0;\n",
              "      width: 32px;\n",
              "    }\n",
              "\n",
              "    .colab-df-convert:hover {\n",
              "      background-color: #E2EBFA;\n",
              "      box-shadow: 0px 1px 2px rgba(60, 64, 67, 0.3), 0px 1px 3px 1px rgba(60, 64, 67, 0.15);\n",
              "      fill: #174EA6;\n",
              "    }\n",
              "\n",
              "    [theme=dark] .colab-df-convert {\n",
              "      background-color: #3B4455;\n",
              "      fill: #D2E3FC;\n",
              "    }\n",
              "\n",
              "    [theme=dark] .colab-df-convert:hover {\n",
              "      background-color: #434B5C;\n",
              "      box-shadow: 0px 1px 3px 1px rgba(0, 0, 0, 0.15);\n",
              "      filter: drop-shadow(0px 1px 2px rgba(0, 0, 0, 0.3));\n",
              "      fill: #FFFFFF;\n",
              "    }\n",
              "  </style>\n",
              "\n",
              "      <script>\n",
              "        const buttonEl =\n",
              "          document.querySelector('#df-bd06c15a-bc7b-4b6f-9368-749828324054 button.colab-df-convert');\n",
              "        buttonEl.style.display =\n",
              "          google.colab.kernel.accessAllowed ? 'block' : 'none';\n",
              "\n",
              "        async function convertToInteractive(key) {\n",
              "          const element = document.querySelector('#df-bd06c15a-bc7b-4b6f-9368-749828324054');\n",
              "          const dataTable =\n",
              "            await google.colab.kernel.invokeFunction('convertToInteractive',\n",
              "                                                     [key], {});\n",
              "          if (!dataTable) return;\n",
              "\n",
              "          const docLinkHtml = 'Like what you see? Visit the ' +\n",
              "            '<a target=\"_blank\" href=https://colab.research.google.com/notebooks/data_table.ipynb>data table notebook</a>'\n",
              "            + ' to learn more about interactive tables.';\n",
              "          element.innerHTML = '';\n",
              "          dataTable['output_type'] = 'display_data';\n",
              "          await google.colab.output.renderOutput(dataTable, element);\n",
              "          const docLink = document.createElement('div');\n",
              "          docLink.innerHTML = docLinkHtml;\n",
              "          element.appendChild(docLink);\n",
              "        }\n",
              "      </script>\n",
              "    </div>\n",
              "  </div>\n",
              "  "
            ]
          },
          "metadata": {},
          "execution_count": 44
        }
      ]
    },
    {
      "cell_type": "code",
      "source": [
        "data.dtypes"
      ],
      "metadata": {
        "colab": {
          "base_uri": "https://localhost:8080/"
        },
        "id": "jJfWPWjiHdSz",
        "outputId": "108b0732-57a5-479d-a58a-db99ed094d43"
      },
      "execution_count": 45,
      "outputs": [
        {
          "output_type": "execute_result",
          "data": {
            "text/plain": [
              "Unnamed: 0                 int64\n",
              "month                     object\n",
              "averagePlayers           float64\n",
              "gain                     float64\n",
              "gainInPercent            float64\n",
              "peakPlayers                int64\n",
              "id                         int64\n",
              "name                      object\n",
              "playingTwelveHoursAgo      int64\n",
              "twentyFourHourPeek         int64\n",
              "allTimePeek                int64\n",
              "dtype: object"
            ]
          },
          "metadata": {},
          "execution_count": 45
        }
      ]
    },
    {
      "cell_type": "code",
      "source": [
        "'Last 30 Days' in data['month'].unique()"
      ],
      "metadata": {
        "colab": {
          "base_uri": "https://localhost:8080/"
        },
        "id": "NJZz4WJzFzWD",
        "outputId": "dc023184-dc8a-4f02-9a6d-a8a33098f16d"
      },
      "execution_count": 47,
      "outputs": [
        {
          "output_type": "execute_result",
          "data": {
            "text/plain": [
              "True"
            ]
          },
          "metadata": {},
          "execution_count": 47
        }
      ]
    },
    {
      "cell_type": "code",
      "source": [
        "data['month'] = data['month'].replace('Last 30 Days', 'October 2022')"
      ],
      "metadata": {
        "id": "bsp3zoawFMMt"
      },
      "execution_count": 48,
      "outputs": []
    },
    {
      "cell_type": "code",
      "source": [
        "'Last 30 Days' in data['month'].unique()"
      ],
      "metadata": {
        "colab": {
          "base_uri": "https://localhost:8080/"
        },
        "id": "sdqg2X0eHHgE",
        "outputId": "fdffcad0-52e6-4d6f-f7ac-42e0b92aaeba"
      },
      "execution_count": 49,
      "outputs": [
        {
          "output_type": "execute_result",
          "data": {
            "text/plain": [
              "False"
            ]
          },
          "metadata": {},
          "execution_count": 49
        }
      ]
    },
    {
      "cell_type": "code",
      "source": [
        "'October 2022' in data['month'].unique()"
      ],
      "metadata": {
        "colab": {
          "base_uri": "https://localhost:8080/"
        },
        "id": "3ozzyxZTHO1p",
        "outputId": "3a6b03b2-b467-49d9-ce99-866f4c4bc131"
      },
      "execution_count": 50,
      "outputs": [
        {
          "output_type": "execute_result",
          "data": {
            "text/plain": [
              "True"
            ]
          },
          "metadata": {},
          "execution_count": 50
        }
      ]
    },
    {
      "cell_type": "code",
      "source": [
        "data.to_csv('steam_charts.csv', sep=',', encoding='utf-8')"
      ],
      "metadata": {
        "id": "MtxUDHfGKKTe"
      },
      "execution_count": 51,
      "outputs": []
    },
    {
      "cell_type": "code",
      "source": [
        "files.download('steam_charts.csv')"
      ],
      "metadata": {
        "colab": {
          "base_uri": "https://localhost:8080/",
          "height": 17
        },
        "id": "8oZYoK3CKRk6",
        "outputId": "44fdd9ee-909e-4ce5-a6af-37f759c1b539"
      },
      "execution_count": 52,
      "outputs": [
        {
          "output_type": "display_data",
          "data": {
            "text/plain": [
              "<IPython.core.display.Javascript object>"
            ],
            "application/javascript": [
              "\n",
              "    async function download(id, filename, size) {\n",
              "      if (!google.colab.kernel.accessAllowed) {\n",
              "        return;\n",
              "      }\n",
              "      const div = document.createElement('div');\n",
              "      const label = document.createElement('label');\n",
              "      label.textContent = `Downloading \"${filename}\": `;\n",
              "      div.appendChild(label);\n",
              "      const progress = document.createElement('progress');\n",
              "      progress.max = size;\n",
              "      div.appendChild(progress);\n",
              "      document.body.appendChild(div);\n",
              "\n",
              "      const buffers = [];\n",
              "      let downloaded = 0;\n",
              "\n",
              "      const channel = await google.colab.kernel.comms.open(id);\n",
              "      // Send a message to notify the kernel that we're ready.\n",
              "      channel.send({})\n",
              "\n",
              "      for await (const message of channel.messages) {\n",
              "        // Send a message to notify the kernel that we're ready.\n",
              "        channel.send({})\n",
              "        if (message.buffers) {\n",
              "          for (const buffer of message.buffers) {\n",
              "            buffers.push(buffer);\n",
              "            downloaded += buffer.byteLength;\n",
              "            progress.value = downloaded;\n",
              "          }\n",
              "        }\n",
              "      }\n",
              "      const blob = new Blob(buffers, {type: 'application/binary'});\n",
              "      const a = document.createElement('a');\n",
              "      a.href = window.URL.createObjectURL(blob);\n",
              "      a.download = filename;\n",
              "      div.appendChild(a);\n",
              "      a.click();\n",
              "      div.remove();\n",
              "    }\n",
              "  "
            ]
          },
          "metadata": {}
        },
        {
          "output_type": "display_data",
          "data": {
            "text/plain": [
              "<IPython.core.display.Javascript object>"
            ],
            "application/javascript": [
              "download(\"download_6a6007ae-c149-44a0-9ea8-aee8feabfde1\", \"steam_charts.csv\", 1794305)"
            ]
          },
          "metadata": {}
        }
      ]
    },
    {
      "cell_type": "code",
      "source": [],
      "metadata": {
        "id": "igK7dnD_KStY"
      },
      "execution_count": null,
      "outputs": []
    }
  ]
}