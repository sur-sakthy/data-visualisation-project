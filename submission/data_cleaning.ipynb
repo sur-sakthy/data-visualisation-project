{
  "nbformat": 4,
  "nbformat_minor": 0,
  "metadata": {
    "colab": {
      "provenance": [],
      "collapsed_sections": [],
      "authorship_tag": "ABX9TyPEjp8Rn86Gt4UssJ4yDESZ",
      "include_colab_link": true
    },
    "kernelspec": {
      "name": "python3",
      "display_name": "Python 3"
    },
    "language_info": {
      "name": "python"
    }
  },
  "cells": [
    {
      "cell_type": "markdown",
      "metadata": {
        "id": "view-in-github",
        "colab_type": "text"
      },
      "source": [
        "<a href=\"https://colab.research.google.com/github/sur-sakthy/data-visualisation-project/blob/main/data/steamcharts/data_cleaning.ipynb\" target=\"_parent\"><img src=\"https://colab.research.google.com/assets/colab-badge.svg\" alt=\"Open In Colab\"/></a>"
      ]
    },
    {
      "cell_type": "markdown",
      "source": [
        "# Cleaning the dataset "
      ],
      "metadata": {
        "id": "X8Pfm8p6OEhe"
      }
    },
    {
      "cell_type": "code",
      "execution_count": 54,
      "metadata": {
        "id": "_J7VGiTEEcMi"
      },
      "outputs": [],
      "source": [
        "# Code to read csv file into Colaboratory:\n",
        "!pip install -U -q PyDrive\n",
        "from pydrive.auth import GoogleAuth\n",
        "from pydrive.drive import GoogleDrive\n",
        "from google.colab import auth, files\n",
        "from oauth2client.client import GoogleCredentials\n",
        "\n",
        "# Authenticate and create the PyDrive client.\n",
        "auth.authenticate_user()\n",
        "gauth = GoogleAuth()\n",
        "gauth.credentials = GoogleCredentials.get_application_default()\n",
        "drive = GoogleDrive(gauth)"
      ]
    },
    {
      "cell_type": "code",
      "source": [
        "import pandas as pd"
      ],
      "metadata": {
        "id": "DSV-cXiTE5Xf"
      },
      "execution_count": 55,
      "outputs": []
    },
    {
      "cell_type": "markdown",
      "source": [
        "Reading the dataset obtained from executing data_gathering.ipynb - to be able to manipulate the column data as necessary."
      ],
      "metadata": {
        "id": "EZ7jIiImOOyY"
      }
    },
    {
      "cell_type": "code",
      "source": [
        "shareable_link = 'https://drive.google.com/file/d/1V1Oc-NnOy9mztovhr1KeQ7Z8KSqp123K/view?usp=share_link'\n",
        "\n",
        "downloaded = drive.CreateFile({'id':'1V1Oc-NnOy9mztovhr1KeQ7Z8KSqp123K'}) \n",
        "downloaded.GetContentFile('steam_charts.csv')  \n",
        "data = pd.read_csv('steam_charts.csv')\n",
        "data"
      ],
      "metadata": {
        "colab": {
          "base_uri": "https://localhost:8080/",
          "height": 424
        },
        "id": "DCpyXKSiEohg",
        "outputId": "5d8d6e2e-deb5-4b24-807f-28f2bd4df4f6"
      },
      "execution_count": 56,
      "outputs": [
        {
          "output_type": "execute_result",
          "data": {
            "text/plain": [
              "       Unnamed: 0           month  averagePlayers    gain  gainInPercent  \\\n",
              "0               0    Last 30 Days          118.16   38.60          48.50   \n",
              "1               1  September 2022           79.56   -5.66          -6.64   \n",
              "2               2     August 2022           85.22   -8.35          -8.93   \n",
              "3               3       July 2022           93.58   -8.48          -8.31   \n",
              "4               4       June 2022          102.05  -61.94         -37.77   \n",
              "...           ...             ...             ...     ...            ...   \n",
              "21282         119   November 2012          157.47    2.12           1.37   \n",
              "21283         120    October 2012          155.35  -61.41         -28.33   \n",
              "21284         121  September 2012          216.76  -19.78          -8.36   \n",
              "21285         122     August 2012          236.53 -115.83         -32.87   \n",
              "21286         123       July 2012          352.36     NaN            NaN   \n",
              "\n",
              "       peakPlayers       id        name  playingTwelveHoursAgo  \\\n",
              "0              437  1291340  Townscaper                     54   \n",
              "1              384  1291340  Townscaper                     54   \n",
              "2              169  1291340  Townscaper                     54   \n",
              "3              208  1291340  Townscaper                     54   \n",
              "4              213  1291340  Townscaper                     54   \n",
              "...            ...      ...         ...                    ...   \n",
              "21282          356       70   Half-Life                    460   \n",
              "21283          345       70   Half-Life                    460   \n",
              "21284          464       70   Half-Life                    460   \n",
              "21285          419       70   Half-Life                    460   \n",
              "21286          674       70   Half-Life                    460   \n",
              "\n",
              "       twentyFourHourPeek  allTimePeek  \n",
              "0                      93         1162  \n",
              "1                      93         1162  \n",
              "2                      93         1162  \n",
              "3                      93         1162  \n",
              "4                      93         1162  \n",
              "...                   ...          ...  \n",
              "21282                 590        10480  \n",
              "21283                 590        10480  \n",
              "21284                 590        10480  \n",
              "21285                 590        10480  \n",
              "21286                 590        10480  \n",
              "\n",
              "[21287 rows x 11 columns]"
            ],
            "text/html": [
              "\n",
              "  <div id=\"df-5fa6e2fc-1f7f-458b-aec4-89ab0396c6a0\">\n",
              "    <div class=\"colab-df-container\">\n",
              "      <div>\n",
              "<style scoped>\n",
              "    .dataframe tbody tr th:only-of-type {\n",
              "        vertical-align: middle;\n",
              "    }\n",
              "\n",
              "    .dataframe tbody tr th {\n",
              "        vertical-align: top;\n",
              "    }\n",
              "\n",
              "    .dataframe thead th {\n",
              "        text-align: right;\n",
              "    }\n",
              "</style>\n",
              "<table border=\"1\" class=\"dataframe\">\n",
              "  <thead>\n",
              "    <tr style=\"text-align: right;\">\n",
              "      <th></th>\n",
              "      <th>Unnamed: 0</th>\n",
              "      <th>month</th>\n",
              "      <th>averagePlayers</th>\n",
              "      <th>gain</th>\n",
              "      <th>gainInPercent</th>\n",
              "      <th>peakPlayers</th>\n",
              "      <th>id</th>\n",
              "      <th>name</th>\n",
              "      <th>playingTwelveHoursAgo</th>\n",
              "      <th>twentyFourHourPeek</th>\n",
              "      <th>allTimePeek</th>\n",
              "    </tr>\n",
              "  </thead>\n",
              "  <tbody>\n",
              "    <tr>\n",
              "      <th>0</th>\n",
              "      <td>0</td>\n",
              "      <td>Last 30 Days</td>\n",
              "      <td>118.16</td>\n",
              "      <td>38.60</td>\n",
              "      <td>48.50</td>\n",
              "      <td>437</td>\n",
              "      <td>1291340</td>\n",
              "      <td>Townscaper</td>\n",
              "      <td>54</td>\n",
              "      <td>93</td>\n",
              "      <td>1162</td>\n",
              "    </tr>\n",
              "    <tr>\n",
              "      <th>1</th>\n",
              "      <td>1</td>\n",
              "      <td>September 2022</td>\n",
              "      <td>79.56</td>\n",
              "      <td>-5.66</td>\n",
              "      <td>-6.64</td>\n",
              "      <td>384</td>\n",
              "      <td>1291340</td>\n",
              "      <td>Townscaper</td>\n",
              "      <td>54</td>\n",
              "      <td>93</td>\n",
              "      <td>1162</td>\n",
              "    </tr>\n",
              "    <tr>\n",
              "      <th>2</th>\n",
              "      <td>2</td>\n",
              "      <td>August 2022</td>\n",
              "      <td>85.22</td>\n",
              "      <td>-8.35</td>\n",
              "      <td>-8.93</td>\n",
              "      <td>169</td>\n",
              "      <td>1291340</td>\n",
              "      <td>Townscaper</td>\n",
              "      <td>54</td>\n",
              "      <td>93</td>\n",
              "      <td>1162</td>\n",
              "    </tr>\n",
              "    <tr>\n",
              "      <th>3</th>\n",
              "      <td>3</td>\n",
              "      <td>July 2022</td>\n",
              "      <td>93.58</td>\n",
              "      <td>-8.48</td>\n",
              "      <td>-8.31</td>\n",
              "      <td>208</td>\n",
              "      <td>1291340</td>\n",
              "      <td>Townscaper</td>\n",
              "      <td>54</td>\n",
              "      <td>93</td>\n",
              "      <td>1162</td>\n",
              "    </tr>\n",
              "    <tr>\n",
              "      <th>4</th>\n",
              "      <td>4</td>\n",
              "      <td>June 2022</td>\n",
              "      <td>102.05</td>\n",
              "      <td>-61.94</td>\n",
              "      <td>-37.77</td>\n",
              "      <td>213</td>\n",
              "      <td>1291340</td>\n",
              "      <td>Townscaper</td>\n",
              "      <td>54</td>\n",
              "      <td>93</td>\n",
              "      <td>1162</td>\n",
              "    </tr>\n",
              "    <tr>\n",
              "      <th>...</th>\n",
              "      <td>...</td>\n",
              "      <td>...</td>\n",
              "      <td>...</td>\n",
              "      <td>...</td>\n",
              "      <td>...</td>\n",
              "      <td>...</td>\n",
              "      <td>...</td>\n",
              "      <td>...</td>\n",
              "      <td>...</td>\n",
              "      <td>...</td>\n",
              "      <td>...</td>\n",
              "    </tr>\n",
              "    <tr>\n",
              "      <th>21282</th>\n",
              "      <td>119</td>\n",
              "      <td>November 2012</td>\n",
              "      <td>157.47</td>\n",
              "      <td>2.12</td>\n",
              "      <td>1.37</td>\n",
              "      <td>356</td>\n",
              "      <td>70</td>\n",
              "      <td>Half-Life</td>\n",
              "      <td>460</td>\n",
              "      <td>590</td>\n",
              "      <td>10480</td>\n",
              "    </tr>\n",
              "    <tr>\n",
              "      <th>21283</th>\n",
              "      <td>120</td>\n",
              "      <td>October 2012</td>\n",
              "      <td>155.35</td>\n",
              "      <td>-61.41</td>\n",
              "      <td>-28.33</td>\n",
              "      <td>345</td>\n",
              "      <td>70</td>\n",
              "      <td>Half-Life</td>\n",
              "      <td>460</td>\n",
              "      <td>590</td>\n",
              "      <td>10480</td>\n",
              "    </tr>\n",
              "    <tr>\n",
              "      <th>21284</th>\n",
              "      <td>121</td>\n",
              "      <td>September 2012</td>\n",
              "      <td>216.76</td>\n",
              "      <td>-19.78</td>\n",
              "      <td>-8.36</td>\n",
              "      <td>464</td>\n",
              "      <td>70</td>\n",
              "      <td>Half-Life</td>\n",
              "      <td>460</td>\n",
              "      <td>590</td>\n",
              "      <td>10480</td>\n",
              "    </tr>\n",
              "    <tr>\n",
              "      <th>21285</th>\n",
              "      <td>122</td>\n",
              "      <td>August 2012</td>\n",
              "      <td>236.53</td>\n",
              "      <td>-115.83</td>\n",
              "      <td>-32.87</td>\n",
              "      <td>419</td>\n",
              "      <td>70</td>\n",
              "      <td>Half-Life</td>\n",
              "      <td>460</td>\n",
              "      <td>590</td>\n",
              "      <td>10480</td>\n",
              "    </tr>\n",
              "    <tr>\n",
              "      <th>21286</th>\n",
              "      <td>123</td>\n",
              "      <td>July 2012</td>\n",
              "      <td>352.36</td>\n",
              "      <td>NaN</td>\n",
              "      <td>NaN</td>\n",
              "      <td>674</td>\n",
              "      <td>70</td>\n",
              "      <td>Half-Life</td>\n",
              "      <td>460</td>\n",
              "      <td>590</td>\n",
              "      <td>10480</td>\n",
              "    </tr>\n",
              "  </tbody>\n",
              "</table>\n",
              "<p>21287 rows × 11 columns</p>\n",
              "</div>\n",
              "      <button class=\"colab-df-convert\" onclick=\"convertToInteractive('df-5fa6e2fc-1f7f-458b-aec4-89ab0396c6a0')\"\n",
              "              title=\"Convert this dataframe to an interactive table.\"\n",
              "              style=\"display:none;\">\n",
              "        \n",
              "  <svg xmlns=\"http://www.w3.org/2000/svg\" height=\"24px\"viewBox=\"0 0 24 24\"\n",
              "       width=\"24px\">\n",
              "    <path d=\"M0 0h24v24H0V0z\" fill=\"none\"/>\n",
              "    <path d=\"M18.56 5.44l.94 2.06.94-2.06 2.06-.94-2.06-.94-.94-2.06-.94 2.06-2.06.94zm-11 1L8.5 8.5l.94-2.06 2.06-.94-2.06-.94L8.5 2.5l-.94 2.06-2.06.94zm10 10l.94 2.06.94-2.06 2.06-.94-2.06-.94-.94-2.06-.94 2.06-2.06.94z\"/><path d=\"M17.41 7.96l-1.37-1.37c-.4-.4-.92-.59-1.43-.59-.52 0-1.04.2-1.43.59L10.3 9.45l-7.72 7.72c-.78.78-.78 2.05 0 2.83L4 21.41c.39.39.9.59 1.41.59.51 0 1.02-.2 1.41-.59l7.78-7.78 2.81-2.81c.8-.78.8-2.07 0-2.86zM5.41 20L4 18.59l7.72-7.72 1.47 1.35L5.41 20z\"/>\n",
              "  </svg>\n",
              "      </button>\n",
              "      \n",
              "  <style>\n",
              "    .colab-df-container {\n",
              "      display:flex;\n",
              "      flex-wrap:wrap;\n",
              "      gap: 12px;\n",
              "    }\n",
              "\n",
              "    .colab-df-convert {\n",
              "      background-color: #E8F0FE;\n",
              "      border: none;\n",
              "      border-radius: 50%;\n",
              "      cursor: pointer;\n",
              "      display: none;\n",
              "      fill: #1967D2;\n",
              "      height: 32px;\n",
              "      padding: 0 0 0 0;\n",
              "      width: 32px;\n",
              "    }\n",
              "\n",
              "    .colab-df-convert:hover {\n",
              "      background-color: #E2EBFA;\n",
              "      box-shadow: 0px 1px 2px rgba(60, 64, 67, 0.3), 0px 1px 3px 1px rgba(60, 64, 67, 0.15);\n",
              "      fill: #174EA6;\n",
              "    }\n",
              "\n",
              "    [theme=dark] .colab-df-convert {\n",
              "      background-color: #3B4455;\n",
              "      fill: #D2E3FC;\n",
              "    }\n",
              "\n",
              "    [theme=dark] .colab-df-convert:hover {\n",
              "      background-color: #434B5C;\n",
              "      box-shadow: 0px 1px 3px 1px rgba(0, 0, 0, 0.15);\n",
              "      filter: drop-shadow(0px 1px 2px rgba(0, 0, 0, 0.3));\n",
              "      fill: #FFFFFF;\n",
              "    }\n",
              "  </style>\n",
              "\n",
              "      <script>\n",
              "        const buttonEl =\n",
              "          document.querySelector('#df-5fa6e2fc-1f7f-458b-aec4-89ab0396c6a0 button.colab-df-convert');\n",
              "        buttonEl.style.display =\n",
              "          google.colab.kernel.accessAllowed ? 'block' : 'none';\n",
              "\n",
              "        async function convertToInteractive(key) {\n",
              "          const element = document.querySelector('#df-5fa6e2fc-1f7f-458b-aec4-89ab0396c6a0');\n",
              "          const dataTable =\n",
              "            await google.colab.kernel.invokeFunction('convertToInteractive',\n",
              "                                                     [key], {});\n",
              "          if (!dataTable) return;\n",
              "\n",
              "          const docLinkHtml = 'Like what you see? Visit the ' +\n",
              "            '<a target=\"_blank\" href=https://colab.research.google.com/notebooks/data_table.ipynb>data table notebook</a>'\n",
              "            + ' to learn more about interactive tables.';\n",
              "          element.innerHTML = '';\n",
              "          dataTable['output_type'] = 'display_data';\n",
              "          await google.colab.output.renderOutput(dataTable, element);\n",
              "          const docLink = document.createElement('div');\n",
              "          docLink.innerHTML = docLinkHtml;\n",
              "          element.appendChild(docLink);\n",
              "        }\n",
              "      </script>\n",
              "    </div>\n",
              "  </div>\n",
              "  "
            ]
          },
          "metadata": {},
          "execution_count": 56
        }
      ]
    },
    {
      "cell_type": "markdown",
      "source": [
        "Checking the column data types."
      ],
      "metadata": {
        "id": "_FLdTOvWO8h3"
      }
    },
    {
      "cell_type": "code",
      "source": [
        "data.dtypes"
      ],
      "metadata": {
        "colab": {
          "base_uri": "https://localhost:8080/"
        },
        "id": "jJfWPWjiHdSz",
        "outputId": "af3199b2-3ca6-406e-bc68-59efb2504a67"
      },
      "execution_count": 57,
      "outputs": [
        {
          "output_type": "execute_result",
          "data": {
            "text/plain": [
              "Unnamed: 0                 int64\n",
              "month                     object\n",
              "averagePlayers           float64\n",
              "gain                     float64\n",
              "gainInPercent            float64\n",
              "peakPlayers                int64\n",
              "id                         int64\n",
              "name                      object\n",
              "playingTwelveHoursAgo      int64\n",
              "twentyFourHourPeek         int64\n",
              "allTimePeek                int64\n",
              "dtype: object"
            ]
          },
          "metadata": {},
          "execution_count": 57
        }
      ]
    },
    {
      "cell_type": "markdown",
      "source": [
        "## Checking the 'month' column values"
      ],
      "metadata": {
        "id": "NZaSgF32PH1w"
      }
    },
    {
      "cell_type": "code",
      "source": [
        "month_sorted = sorted(data['month'].unique())\n",
        "for month in month_sorted:\n",
        "  print(month)"
      ],
      "metadata": {
        "colab": {
          "base_uri": "https://localhost:8080/"
        },
        "id": "U1hRFGUoPUH_",
        "outputId": "87a61863-9a27-4bfe-c79a-d51e15d3fb48"
      },
      "execution_count": 58,
      "outputs": [
        {
          "output_type": "stream",
          "name": "stdout",
          "text": [
            "April 2013\n",
            "April 2014\n",
            "April 2015\n",
            "April 2016\n",
            "April 2017\n",
            "April 2018\n",
            "April 2019\n",
            "April 2020\n",
            "April 2021\n",
            "April 2022\n",
            "August 2012\n",
            "August 2013\n",
            "August 2014\n",
            "August 2015\n",
            "August 2016\n",
            "August 2017\n",
            "August 2018\n",
            "August 2019\n",
            "August 2020\n",
            "August 2021\n",
            "August 2022\n",
            "December 2012\n",
            "December 2013\n",
            "December 2014\n",
            "December 2015\n",
            "December 2016\n",
            "December 2017\n",
            "December 2018\n",
            "December 2019\n",
            "December 2020\n",
            "December 2021\n",
            "February 2013\n",
            "February 2014\n",
            "February 2015\n",
            "February 2016\n",
            "February 2017\n",
            "February 2018\n",
            "February 2019\n",
            "February 2020\n",
            "February 2021\n",
            "February 2022\n",
            "January 2013\n",
            "January 2014\n",
            "January 2015\n",
            "January 2016\n",
            "January 2017\n",
            "January 2018\n",
            "January 2019\n",
            "January 2020\n",
            "January 2021\n",
            "January 2022\n",
            "July 2012\n",
            "July 2013\n",
            "July 2014\n",
            "July 2015\n",
            "July 2016\n",
            "July 2017\n",
            "July 2018\n",
            "July 2019\n",
            "July 2020\n",
            "July 2021\n",
            "July 2022\n",
            "June 2013\n",
            "June 2014\n",
            "June 2015\n",
            "June 2016\n",
            "June 2017\n",
            "June 2018\n",
            "June 2019\n",
            "June 2020\n",
            "June 2021\n",
            "June 2022\n",
            "Last 30 Days\n",
            "March 2013\n",
            "March 2014\n",
            "March 2015\n",
            "March 2016\n",
            "March 2017\n",
            "March 2018\n",
            "March 2019\n",
            "March 2020\n",
            "March 2021\n",
            "March 2022\n",
            "May 2013\n",
            "May 2014\n",
            "May 2015\n",
            "May 2016\n",
            "May 2017\n",
            "May 2018\n",
            "May 2019\n",
            "May 2020\n",
            "May 2021\n",
            "May 2022\n",
            "November 2012\n",
            "November 2013\n",
            "November 2014\n",
            "November 2015\n",
            "November 2016\n",
            "November 2017\n",
            "November 2018\n",
            "November 2019\n",
            "November 2020\n",
            "November 2021\n",
            "October 2012\n",
            "October 2013\n",
            "October 2014\n",
            "October 2015\n",
            "October 2016\n",
            "October 2017\n",
            "October 2018\n",
            "October 2019\n",
            "October 2020\n",
            "October 2021\n",
            "September 2012\n",
            "September 2013\n",
            "September 2014\n",
            "September 2015\n",
            "September 2016\n",
            "September 2017\n",
            "September 2018\n",
            "September 2019\n",
            "September 2020\n",
            "September 2021\n",
            "September 2022\n"
          ]
        }
      ]
    },
    {
      "cell_type": "code",
      "source": [
        "'Last 30 Days' in data['month'].unique()"
      ],
      "metadata": {
        "colab": {
          "base_uri": "https://localhost:8080/"
        },
        "id": "NJZz4WJzFzWD",
        "outputId": "c5dcb9f9-f47c-4faf-c33a-85bca704b00c"
      },
      "execution_count": 59,
      "outputs": [
        {
          "output_type": "execute_result",
          "data": {
            "text/plain": [
              "True"
            ]
          },
          "metadata": {},
          "execution_count": 59
        }
      ]
    },
    {
      "cell_type": "markdown",
      "source": [
        "## Replacing 'Last 30 Days' -> 'October 2022' \n",
        "So that all data values in the ***month*** column are of a consistent format."
      ],
      "metadata": {
        "id": "YYgC0LNyPnOV"
      }
    },
    {
      "cell_type": "code",
      "source": [
        "data['month'] = data['month'].replace('Last 30 Days', 'October 2022')"
      ],
      "metadata": {
        "id": "bsp3zoawFMMt"
      },
      "execution_count": 60,
      "outputs": []
    },
    {
      "cell_type": "markdown",
      "source": [
        "## Checking whether the replacement is successful or not"
      ],
      "metadata": {
        "id": "EVjDovb2QSDB"
      }
    },
    {
      "cell_type": "code",
      "source": [
        "'Last 30 Days' in data['month'].unique()"
      ],
      "metadata": {
        "colab": {
          "base_uri": "https://localhost:8080/"
        },
        "id": "sdqg2X0eHHgE",
        "outputId": "3d3033ab-98b5-4f9c-a21a-32b148cc6870"
      },
      "execution_count": 61,
      "outputs": [
        {
          "output_type": "execute_result",
          "data": {
            "text/plain": [
              "False"
            ]
          },
          "metadata": {},
          "execution_count": 61
        }
      ]
    },
    {
      "cell_type": "code",
      "source": [
        "'October 2022' in data['month'].unique()"
      ],
      "metadata": {
        "colab": {
          "base_uri": "https://localhost:8080/"
        },
        "id": "3ozzyxZTHO1p",
        "outputId": "2544ea69-41a4-4893-e0fc-197e654c855d"
      },
      "execution_count": 62,
      "outputs": [
        {
          "output_type": "execute_result",
          "data": {
            "text/plain": [
              "True"
            ]
          },
          "metadata": {},
          "execution_count": 62
        }
      ]
    },
    {
      "cell_type": "markdown",
      "source": [
        "## Exporting the cleansed dataset "
      ],
      "metadata": {
        "id": "Q9N_BHnjN37N"
      }
    },
    {
      "cell_type": "code",
      "source": [
        "data.to_csv('steam_charts.csv', sep=',', encoding='utf-8')"
      ],
      "metadata": {
        "id": "MtxUDHfGKKTe"
      },
      "execution_count": 63,
      "outputs": []
    },
    {
      "cell_type": "markdown",
      "source": [
        "## Downloading the cleansed dataset"
      ],
      "metadata": {
        "id": "8o8_wj9uN3OF"
      }
    },
    {
      "cell_type": "code",
      "source": [
        "files.download('steam_charts.csv')"
      ],
      "metadata": {
        "colab": {
          "base_uri": "https://localhost:8080/",
          "height": 17
        },
        "id": "8oZYoK3CKRk6",
        "outputId": "57f1d5a2-42ed-4fb7-cb05-8766aa7822d2"
      },
      "execution_count": 64,
      "outputs": [
        {
          "output_type": "display_data",
          "data": {
            "text/plain": [
              "<IPython.core.display.Javascript object>"
            ],
            "application/javascript": [
              "\n",
              "    async function download(id, filename, size) {\n",
              "      if (!google.colab.kernel.accessAllowed) {\n",
              "        return;\n",
              "      }\n",
              "      const div = document.createElement('div');\n",
              "      const label = document.createElement('label');\n",
              "      label.textContent = `Downloading \"${filename}\": `;\n",
              "      div.appendChild(label);\n",
              "      const progress = document.createElement('progress');\n",
              "      progress.max = size;\n",
              "      div.appendChild(progress);\n",
              "      document.body.appendChild(div);\n",
              "\n",
              "      const buffers = [];\n",
              "      let downloaded = 0;\n",
              "\n",
              "      const channel = await google.colab.kernel.comms.open(id);\n",
              "      // Send a message to notify the kernel that we're ready.\n",
              "      channel.send({})\n",
              "\n",
              "      for await (const message of channel.messages) {\n",
              "        // Send a message to notify the kernel that we're ready.\n",
              "        channel.send({})\n",
              "        if (message.buffers) {\n",
              "          for (const buffer of message.buffers) {\n",
              "            buffers.push(buffer);\n",
              "            downloaded += buffer.byteLength;\n",
              "            progress.value = downloaded;\n",
              "          }\n",
              "        }\n",
              "      }\n",
              "      const blob = new Blob(buffers, {type: 'application/binary'});\n",
              "      const a = document.createElement('a');\n",
              "      a.href = window.URL.createObjectURL(blob);\n",
              "      a.download = filename;\n",
              "      div.appendChild(a);\n",
              "      a.click();\n",
              "      div.remove();\n",
              "    }\n",
              "  "
            ]
          },
          "metadata": {}
        },
        {
          "output_type": "display_data",
          "data": {
            "text/plain": [
              "<IPython.core.display.Javascript object>"
            ],
            "application/javascript": [
              "download(\"download_db7a5bb6-f4fe-4c11-bda3-827627a3fa88\", \"steam_charts.csv\", 1794305)"
            ]
          },
          "metadata": {}
        }
      ]
    }
  ]
}