{
 "cells": [
  {
   "cell_type": "markdown",
   "source": [
    "# Running sentiment analysis on the review text - TextBlob sentiment analyzer\n",
    "References\n",
    "- [Sentiment analysis for data science](https://medium.com/@nikitasilaparasetty/twitter-sentiment-analysis-for-data-science-using-python-in-2022-6d5e43f6fa6e).\n",
    "- [GitHub](https://github.com/nikitasilaparasetty/Twitter-Sentiment-Analysis-Projects-2022-) for the above medium blog post.\n",
    "- [TextBlob](https://textblob.readthedocs.io/en/dev/index.html): Simplified Text Processing - provides API for diving into common NLP tasks such as part-of-speech tagging, noun phrase extraction, sentiment analysis, classification, translation and more."
   ],
   "metadata": {
    "collapsed": false
   }
  },
  {
   "cell_type": "code",
   "execution_count": 1,
   "outputs": [],
   "source": [
    "# Import the necessary libraries\n",
    "import re\n",
    "from textblob import TextBlob\n",
    "import matplotlib.pyplot as plt\n",
    "import pandas as pd"
   ],
   "metadata": {
    "collapsed": false
   }
  },
  {
   "cell_type": "markdown",
   "source": [
    "## Data preparation\n",
    "Load and clean the review text data."
   ],
   "metadata": {
    "collapsed": false
   }
  },
  {
   "cell_type": "code",
   "execution_count": 2,
   "outputs": [
    {
     "data": {
      "text/plain": "   Unnamed: 0  app_id                  app_name  review_id  language  \\\n0           0  292030  The Witcher 3: Wild Hunt   85185598  schinese   \n1           1  292030  The Witcher 3: Wild Hunt   85185250  schinese   \n2           2  292030  The Witcher 3: Wild Hunt   85185111  schinese   \n3           3  292030  The Witcher 3: Wild Hunt   85184605   english   \n4           4  292030  The Witcher 3: Wild Hunt   85184287  schinese   \n\n                                              review  timestamp_created  \\\n0                            不玩此生遗憾，RPG游戏里的天花板，太吸引人了         1611381629   \n1                                 拔DIAO无情打桩机--杰洛特!!!         1611381030   \n2                                              巫师3NB         1611380800   \n3  One of the best RPG's of all time, worthy of a...         1611379970   \n4                                                 大作         1611379427   \n\n   timestamp_updated  recommended  votes_helpful  ...  steam_purchase  \\\n0         1611381629         True              0  ...            True   \n1         1611381030         True              0  ...            True   \n2         1611380800         True              0  ...            True   \n3         1611379970         True              0  ...            True   \n4         1611379427         True              0  ...            True   \n\n   received_for_free  written_during_early_access     author.steamid  \\\n0              False                        False  76561199095369542   \n1              False                        False  76561198949504115   \n2              False                        False  76561199090098988   \n3              False                        False  76561199054755373   \n4              False                        False  76561199028326951   \n\n   author.num_games_owned  author.num_reviews  author.playtime_forever  \\\n0                       6                   2                   1909.0   \n1                      30                  10                   2764.0   \n2                       5                   1                   1061.0   \n3                       5                   3                   5587.0   \n4                       7                   4                    217.0   \n\n   author.playtime_last_two_weeks  author.playtime_at_review  \\\n0                          1448.0                     1909.0   \n1                          2743.0                     2674.0   \n2                          1061.0                     1060.0   \n3                          3200.0                     5524.0   \n4                            42.0                      217.0   \n\n   author.last_played  \n0        1.611343e+09  \n1        1.611386e+09  \n2        1.611384e+09  \n3        1.611384e+09  \n4        1.610788e+09  \n\n[5 rows x 23 columns]",
      "text/html": "<div>\n<style scoped>\n    .dataframe tbody tr th:only-of-type {\n        vertical-align: middle;\n    }\n\n    .dataframe tbody tr th {\n        vertical-align: top;\n    }\n\n    .dataframe thead th {\n        text-align: right;\n    }\n</style>\n<table border=\"1\" class=\"dataframe\">\n  <thead>\n    <tr style=\"text-align: right;\">\n      <th></th>\n      <th>Unnamed: 0</th>\n      <th>app_id</th>\n      <th>app_name</th>\n      <th>review_id</th>\n      <th>language</th>\n      <th>review</th>\n      <th>timestamp_created</th>\n      <th>timestamp_updated</th>\n      <th>recommended</th>\n      <th>votes_helpful</th>\n      <th>...</th>\n      <th>steam_purchase</th>\n      <th>received_for_free</th>\n      <th>written_during_early_access</th>\n      <th>author.steamid</th>\n      <th>author.num_games_owned</th>\n      <th>author.num_reviews</th>\n      <th>author.playtime_forever</th>\n      <th>author.playtime_last_two_weeks</th>\n      <th>author.playtime_at_review</th>\n      <th>author.last_played</th>\n    </tr>\n  </thead>\n  <tbody>\n    <tr>\n      <th>0</th>\n      <td>0</td>\n      <td>292030</td>\n      <td>The Witcher 3: Wild Hunt</td>\n      <td>85185598</td>\n      <td>schinese</td>\n      <td>不玩此生遗憾，RPG游戏里的天花板，太吸引人了</td>\n      <td>1611381629</td>\n      <td>1611381629</td>\n      <td>True</td>\n      <td>0</td>\n      <td>...</td>\n      <td>True</td>\n      <td>False</td>\n      <td>False</td>\n      <td>76561199095369542</td>\n      <td>6</td>\n      <td>2</td>\n      <td>1909.0</td>\n      <td>1448.0</td>\n      <td>1909.0</td>\n      <td>1.611343e+09</td>\n    </tr>\n    <tr>\n      <th>1</th>\n      <td>1</td>\n      <td>292030</td>\n      <td>The Witcher 3: Wild Hunt</td>\n      <td>85185250</td>\n      <td>schinese</td>\n      <td>拔DIAO无情打桩机--杰洛特!!!</td>\n      <td>1611381030</td>\n      <td>1611381030</td>\n      <td>True</td>\n      <td>0</td>\n      <td>...</td>\n      <td>True</td>\n      <td>False</td>\n      <td>False</td>\n      <td>76561198949504115</td>\n      <td>30</td>\n      <td>10</td>\n      <td>2764.0</td>\n      <td>2743.0</td>\n      <td>2674.0</td>\n      <td>1.611386e+09</td>\n    </tr>\n    <tr>\n      <th>2</th>\n      <td>2</td>\n      <td>292030</td>\n      <td>The Witcher 3: Wild Hunt</td>\n      <td>85185111</td>\n      <td>schinese</td>\n      <td>巫师3NB</td>\n      <td>1611380800</td>\n      <td>1611380800</td>\n      <td>True</td>\n      <td>0</td>\n      <td>...</td>\n      <td>True</td>\n      <td>False</td>\n      <td>False</td>\n      <td>76561199090098988</td>\n      <td>5</td>\n      <td>1</td>\n      <td>1061.0</td>\n      <td>1061.0</td>\n      <td>1060.0</td>\n      <td>1.611384e+09</td>\n    </tr>\n    <tr>\n      <th>3</th>\n      <td>3</td>\n      <td>292030</td>\n      <td>The Witcher 3: Wild Hunt</td>\n      <td>85184605</td>\n      <td>english</td>\n      <td>One of the best RPG's of all time, worthy of a...</td>\n      <td>1611379970</td>\n      <td>1611379970</td>\n      <td>True</td>\n      <td>0</td>\n      <td>...</td>\n      <td>True</td>\n      <td>False</td>\n      <td>False</td>\n      <td>76561199054755373</td>\n      <td>5</td>\n      <td>3</td>\n      <td>5587.0</td>\n      <td>3200.0</td>\n      <td>5524.0</td>\n      <td>1.611384e+09</td>\n    </tr>\n    <tr>\n      <th>4</th>\n      <td>4</td>\n      <td>292030</td>\n      <td>The Witcher 3: Wild Hunt</td>\n      <td>85184287</td>\n      <td>schinese</td>\n      <td>大作</td>\n      <td>1611379427</td>\n      <td>1611379427</td>\n      <td>True</td>\n      <td>0</td>\n      <td>...</td>\n      <td>True</td>\n      <td>False</td>\n      <td>False</td>\n      <td>76561199028326951</td>\n      <td>7</td>\n      <td>4</td>\n      <td>217.0</td>\n      <td>42.0</td>\n      <td>217.0</td>\n      <td>1.610788e+09</td>\n    </tr>\n  </tbody>\n</table>\n<p>5 rows × 23 columns</p>\n</div>"
     },
     "execution_count": 2,
     "metadata": {},
     "output_type": "execute_result"
    }
   ],
   "source": [
    "data = pd.read_csv('steam_reviews.csv')\n",
    "data.head()"
   ],
   "metadata": {
    "collapsed": false
   }
  },
  {
   "cell_type": "markdown",
   "source": [
    "Create a dataframe with only the required columns, i.e. features that are necessary to link sentiment score to review for visualisation."
   ],
   "metadata": {
    "collapsed": false
   }
  },
  {
   "cell_type": "code",
   "execution_count": 3,
   "outputs": [
    {
     "name": "stdout",
     "output_type": "stream",
     "text": [
      "No. of reviews in all languages: 21747371\n"
     ]
    },
    {
     "data": {
      "text/plain": "   app_id                  app_name  review_id  language  \\\n0  292030  The Witcher 3: Wild Hunt   85185598  schinese   \n1  292030  The Witcher 3: Wild Hunt   85185250  schinese   \n2  292030  The Witcher 3: Wild Hunt   85185111  schinese   \n3  292030  The Witcher 3: Wild Hunt   85184605   english   \n4  292030  The Witcher 3: Wild Hunt   85184287  schinese   \n\n                                              review  timestamp_created  \n0                            不玩此生遗憾，RPG游戏里的天花板，太吸引人了         1611381629  \n1                                 拔DIAO无情打桩机--杰洛特!!!         1611381030  \n2                                              巫师3NB         1611380800  \n3  One of the best RPG's of all time, worthy of a...         1611379970  \n4                                                 大作         1611379427  ",
      "text/html": "<div>\n<style scoped>\n    .dataframe tbody tr th:only-of-type {\n        vertical-align: middle;\n    }\n\n    .dataframe tbody tr th {\n        vertical-align: top;\n    }\n\n    .dataframe thead th {\n        text-align: right;\n    }\n</style>\n<table border=\"1\" class=\"dataframe\">\n  <thead>\n    <tr style=\"text-align: right;\">\n      <th></th>\n      <th>app_id</th>\n      <th>app_name</th>\n      <th>review_id</th>\n      <th>language</th>\n      <th>review</th>\n      <th>timestamp_created</th>\n    </tr>\n  </thead>\n  <tbody>\n    <tr>\n      <th>0</th>\n      <td>292030</td>\n      <td>The Witcher 3: Wild Hunt</td>\n      <td>85185598</td>\n      <td>schinese</td>\n      <td>不玩此生遗憾，RPG游戏里的天花板，太吸引人了</td>\n      <td>1611381629</td>\n    </tr>\n    <tr>\n      <th>1</th>\n      <td>292030</td>\n      <td>The Witcher 3: Wild Hunt</td>\n      <td>85185250</td>\n      <td>schinese</td>\n      <td>拔DIAO无情打桩机--杰洛特!!!</td>\n      <td>1611381030</td>\n    </tr>\n    <tr>\n      <th>2</th>\n      <td>292030</td>\n      <td>The Witcher 3: Wild Hunt</td>\n      <td>85185111</td>\n      <td>schinese</td>\n      <td>巫师3NB</td>\n      <td>1611380800</td>\n    </tr>\n    <tr>\n      <th>3</th>\n      <td>292030</td>\n      <td>The Witcher 3: Wild Hunt</td>\n      <td>85184605</td>\n      <td>english</td>\n      <td>One of the best RPG's of all time, worthy of a...</td>\n      <td>1611379970</td>\n    </tr>\n    <tr>\n      <th>4</th>\n      <td>292030</td>\n      <td>The Witcher 3: Wild Hunt</td>\n      <td>85184287</td>\n      <td>schinese</td>\n      <td>大作</td>\n      <td>1611379427</td>\n    </tr>\n  </tbody>\n</table>\n</div>"
     },
     "execution_count": 3,
     "metadata": {},
     "output_type": "execute_result"
    }
   ],
   "source": [
    "df = data[['app_id', 'app_name', 'review_id', 'language', 'review', 'timestamp_created']]\n",
    "print(\"No. of reviews in all languages: \" + str(df.count()[0]))\n",
    "df.head()"
   ],
   "metadata": {
    "collapsed": false
   }
  },
  {
   "cell_type": "markdown",
   "source": [
    "Fetch the reviews written in english and filter out the reviews that are in other languages."
   ],
   "metadata": {
    "collapsed": false
   }
  },
  {
   "cell_type": "code",
   "execution_count": 4,
   "outputs": [
    {
     "name": "stdout",
     "output_type": "stream",
     "text": [
      "No. of reviews in english: 9635437\n"
     ]
    },
    {
     "data": {
      "text/plain": "   app_id                  app_name  review_id language  \\\n0  292030  The Witcher 3: Wild Hunt   85184605  english   \n1  292030  The Witcher 3: Wild Hunt   85184171  english   \n2  292030  The Witcher 3: Wild Hunt   85184064  english   \n3  292030  The Witcher 3: Wild Hunt   85180436  english   \n4  292030  The Witcher 3: Wild Hunt   85179753  english   \n\n                                              review  timestamp_created  \n0  One of the best RPG's of all time, worthy of a...         1611379970  \n1             good story, good graphics. lots to do.         1611379264  \n2                                           dis gud,         1611379091  \n3  favorite game of all time cant wait for the Ne...         1611373086  \n4                          Why wouldn't you get this         1611371978  ",
      "text/html": "<div>\n<style scoped>\n    .dataframe tbody tr th:only-of-type {\n        vertical-align: middle;\n    }\n\n    .dataframe tbody tr th {\n        vertical-align: top;\n    }\n\n    .dataframe thead th {\n        text-align: right;\n    }\n</style>\n<table border=\"1\" class=\"dataframe\">\n  <thead>\n    <tr style=\"text-align: right;\">\n      <th></th>\n      <th>app_id</th>\n      <th>app_name</th>\n      <th>review_id</th>\n      <th>language</th>\n      <th>review</th>\n      <th>timestamp_created</th>\n    </tr>\n  </thead>\n  <tbody>\n    <tr>\n      <th>0</th>\n      <td>292030</td>\n      <td>The Witcher 3: Wild Hunt</td>\n      <td>85184605</td>\n      <td>english</td>\n      <td>One of the best RPG's of all time, worthy of a...</td>\n      <td>1611379970</td>\n    </tr>\n    <tr>\n      <th>1</th>\n      <td>292030</td>\n      <td>The Witcher 3: Wild Hunt</td>\n      <td>85184171</td>\n      <td>english</td>\n      <td>good story, good graphics. lots to do.</td>\n      <td>1611379264</td>\n    </tr>\n    <tr>\n      <th>2</th>\n      <td>292030</td>\n      <td>The Witcher 3: Wild Hunt</td>\n      <td>85184064</td>\n      <td>english</td>\n      <td>dis gud,</td>\n      <td>1611379091</td>\n    </tr>\n    <tr>\n      <th>3</th>\n      <td>292030</td>\n      <td>The Witcher 3: Wild Hunt</td>\n      <td>85180436</td>\n      <td>english</td>\n      <td>favorite game of all time cant wait for the Ne...</td>\n      <td>1611373086</td>\n    </tr>\n    <tr>\n      <th>4</th>\n      <td>292030</td>\n      <td>The Witcher 3: Wild Hunt</td>\n      <td>85179753</td>\n      <td>english</td>\n      <td>Why wouldn't you get this</td>\n      <td>1611371978</td>\n    </tr>\n  </tbody>\n</table>\n</div>"
     },
     "execution_count": 4,
     "metadata": {},
     "output_type": "execute_result"
    }
   ],
   "source": [
    "df = df.query(\"language == 'english'\").reset_index(drop=True)\n",
    "print(\"No. of reviews in english: \" + str(df.count()[0]))\n",
    "df.head()"
   ],
   "metadata": {
    "collapsed": false
   }
  },
  {
   "cell_type": "markdown",
   "source": [
    "Create a function to clean the reviews and remove stopwords and unnecessary characters"
   ],
   "metadata": {
    "collapsed": false
   }
  },
  {
   "cell_type": "code",
   "execution_count": 26,
   "outputs": [],
   "source": [
    "def clean_review(review):\n",
    "    if type(review) == float:\n",
    "        return \"\"\n",
    "    r = review.lower()\n",
    "    r = re.sub(\"'\", \"\", r) # This is to avoid removing contractions in english\n",
    "    r = re.sub(\"@[A-Za-z0-9_]+\",\"\", r)\n",
    "    r = re.sub(\"#[A-Za-z0-9_]+\",\"\", r)\n",
    "    r = re.sub(r'http\\S+', '', r)\n",
    "    r = re.sub('[()!?]', ' ', r)\n",
    "    r = re.sub('\\[.*?]',' ', r)\n",
    "    r = re.sub(\"[^a-z0-9]\",\" \", r)\n",
    "    r = r.split()\n",
    "    stopwords = [\"for\", \"on\", \"an\", \"a\", \"of\", \"and\", \"in\", \"the\", \"to\", \"from\"]\n",
    "    r = [w for w in r if not w in stopwords]\n",
    "    r = \" \".join(word for word in r)\n",
    "    return r"
   ],
   "metadata": {
    "collapsed": false
   }
  },
  {
   "cell_type": "code",
   "execution_count": 29,
   "outputs": [],
   "source": [
    "cleaned = [clean_review(rv) for rv in df.review]"
   ],
   "metadata": {
    "collapsed": false
   }
  },
  {
   "cell_type": "markdown",
   "source": [
    "Append the cleaned review text to the above pandas dataframe."
   ],
   "metadata": {
    "collapsed": false
   }
  },
  {
   "cell_type": "code",
   "execution_count": 30,
   "outputs": [],
   "source": [
    "df['review_cleaned'] = pd.Series(cleaned)"
   ],
   "metadata": {
    "collapsed": false
   }
  },
  {
   "cell_type": "markdown",
   "source": [
    "Write the dataframe to a csv file to avoid memory issues going forward."
   ],
   "metadata": {
    "collapsed": false
   }
  },
  {
   "cell_type": "code",
   "execution_count": 31,
   "outputs": [],
   "source": [
    "df.to_csv('steam_review_cleaned_english.csv')"
   ],
   "metadata": {
    "collapsed": false
   }
  },
  {
   "cell_type": "markdown",
   "source": [
    "## Sentiment analysis\n",
    "If you are running low on memory, restart the kernel before proceeding."
   ],
   "metadata": {
    "collapsed": false
   }
  },
  {
   "cell_type": "code",
   "execution_count": 47,
   "outputs": [],
   "source": [
    "df = pd.read_csv('steam_review_cleaned_english.csv', index_col=0)"
   ],
   "metadata": {
    "collapsed": false
   }
  },
  {
   "cell_type": "code",
   "execution_count": 3,
   "outputs": [
    {
     "name": "stdout",
     "output_type": "stream",
     "text": [
      "<class 'pandas.core.frame.DataFrame'>\n",
      "RangeIndex: 9635437 entries, 0 to 9635436\n",
      "Data columns (total 7 columns):\n",
      " #   Column          Dtype \n",
      "---  ------          ----- \n",
      " 0   Unnamed: 0      int64 \n",
      " 1   app_id          int64 \n",
      " 2   app_name        object\n",
      " 3   review_id       int64 \n",
      " 4   language        object\n",
      " 5   review          object\n",
      " 6   review_cleaned  object\n",
      "dtypes: int64(3), object(4)\n",
      "memory usage: 514.6+ MB\n"
     ]
    }
   ],
   "source": [
    "df.info()"
   ],
   "metadata": {
    "collapsed": false
   }
  },
  {
   "cell_type": "code",
   "execution_count": 4,
   "outputs": [],
   "source": [
    "sentiment_objects = [TextBlob(review) for review in df.review_cleaned.astype(str)]"
   ],
   "metadata": {
    "collapsed": false
   }
  },
  {
   "cell_type": "markdown",
   "source": [
    "Fetch the sentiment/polarity score for the reviews. The polarity score is a float within the range [-1.0, 1.0].\n",
    "-1 indicates negative sentiment.\n",
    "+1 indicates positive sentiment.\n",
    "\n",
    "\n",
    "I iterated over a million results at a time and wrote the polarity score results to a file due to memory and time complexity on my local machine. The ranges I used are:\n",
    "- 0 : 1,000,000\n",
    "- 1,000,000 : 2,000,000\n",
    "- 2,000,000 : 3,000,000\n",
    "- 3,000,000 : 4,000,000\n",
    "- 4,000,000 : 5,000,000\n",
    "- 5,000,000 : 6,000,000\n",
    "- 6,000,000 : 7,000,000\n",
    "- 7,000,000 : 8,000,000\n",
    "- 8,000,000 : 9,000,000\n",
    "- 9,000,000 :"
   ],
   "metadata": {
    "collapsed": false
   }
  },
  {
   "cell_type": "code",
   "execution_count": null,
   "outputs": [],
   "source": [
    "polarity = []\n",
    "for i, review in enumerate(sentiment_objects[9000000:]):\n",
    "    polarity.append(review.sentiment.polarity)\n",
    "    print(i)"
   ],
   "metadata": {
    "collapsed": false,
    "pycharm": {
     "is_executing": true
    }
   }
  },
  {
   "cell_type": "code",
   "execution_count": 28,
   "outputs": [
    {
     "data": {
      "text/plain": "     0\n0  0.0\n1  0.0\n2  0.5\n3  0.0\n4  0.7",
      "text/html": "<div>\n<style scoped>\n    .dataframe tbody tr th:only-of-type {\n        vertical-align: middle;\n    }\n\n    .dataframe tbody tr th {\n        vertical-align: top;\n    }\n\n    .dataframe thead th {\n        text-align: right;\n    }\n</style>\n<table border=\"1\" class=\"dataframe\">\n  <thead>\n    <tr style=\"text-align: right;\">\n      <th></th>\n      <th>0</th>\n    </tr>\n  </thead>\n  <tbody>\n    <tr>\n      <th>0</th>\n      <td>0.0</td>\n    </tr>\n    <tr>\n      <th>1</th>\n      <td>0.0</td>\n    </tr>\n    <tr>\n      <th>2</th>\n      <td>0.5</td>\n    </tr>\n    <tr>\n      <th>3</th>\n      <td>0.0</td>\n    </tr>\n    <tr>\n      <th>4</th>\n      <td>0.7</td>\n    </tr>\n  </tbody>\n</table>\n</div>"
     },
     "execution_count": 28,
     "metadata": {},
     "output_type": "execute_result"
    }
   ],
   "source": [
    "polarity_df = pd.DataFrame(polarity)\n",
    "polarity_df.head()"
   ],
   "metadata": {
    "collapsed": false
   }
  },
  {
   "cell_type": "code",
   "execution_count": 29,
   "outputs": [
    {
     "name": "stdout",
     "output_type": "stream",
     "text": [
      "<class 'pandas.core.frame.DataFrame'>\n",
      "RangeIndex: 635437 entries, 0 to 635436\n",
      "Data columns (total 1 columns):\n",
      " #   Column  Non-Null Count   Dtype  \n",
      "---  ------  --------------   -----  \n",
      " 0   0       635437 non-null  float64\n",
      "dtypes: float64(1)\n",
      "memory usage: 4.8 MB\n"
     ]
    }
   ],
   "source": [
    "polarity_df.info()"
   ],
   "metadata": {
    "collapsed": false
   }
  },
  {
   "cell_type": "code",
   "execution_count": 30,
   "outputs": [],
   "source": [
    "polarity_df.to_csv('polarity_final.csv', header=False, index=False)"
   ],
   "metadata": {
    "collapsed": false
   }
  },
  {
   "cell_type": "markdown",
   "source": [
    "## Combine the datasets"
   ],
   "metadata": {
    "collapsed": false
   }
  },
  {
   "cell_type": "code",
   "execution_count": 36,
   "outputs": [],
   "source": [
    "polarity_1000000 = pd.read_csv('polarity_1000000.csv', header=None)\n",
    "polarity_2000000 = pd.read_csv('polarity_2000000.csv', header=None)\n",
    "polarity_3000000 = pd.read_csv('polarity_3000000.csv', header=None)\n",
    "polarity_4000000 = pd.read_csv('polarity_4000000.csv', header=None)\n",
    "polarity_5000000 = pd.read_csv('polarity_5000000.csv', header=None)\n",
    "polarity_6000000 = pd.read_csv('polarity_6000000.csv', header=None)\n",
    "polarity_7000000 = pd.read_csv('polarity_7000000.csv', header=None)\n",
    "polarity_8000000 = pd.read_csv('polarity_8000000.csv', header=None)\n",
    "polarity_9000000 = pd.read_csv('polarity_9000000.csv', header=None)\n",
    "polarity_final = pd.read_csv('polarity_final.csv', header=None)"
   ],
   "metadata": {
    "collapsed": false
   }
  },
  {
   "cell_type": "code",
   "execution_count": 37,
   "outputs": [
    {
     "data": {
      "text/plain": "          0\n0  0.666667\n1  0.700000\n2  0.000000\n3  0.050000\n4  0.000000",
      "text/html": "<div>\n<style scoped>\n    .dataframe tbody tr th:only-of-type {\n        vertical-align: middle;\n    }\n\n    .dataframe tbody tr th {\n        vertical-align: top;\n    }\n\n    .dataframe thead th {\n        text-align: right;\n    }\n</style>\n<table border=\"1\" class=\"dataframe\">\n  <thead>\n    <tr style=\"text-align: right;\">\n      <th></th>\n      <th>0</th>\n    </tr>\n  </thead>\n  <tbody>\n    <tr>\n      <th>0</th>\n      <td>0.666667</td>\n    </tr>\n    <tr>\n      <th>1</th>\n      <td>0.700000</td>\n    </tr>\n    <tr>\n      <th>2</th>\n      <td>0.000000</td>\n    </tr>\n    <tr>\n      <th>3</th>\n      <td>0.050000</td>\n    </tr>\n    <tr>\n      <th>4</th>\n      <td>0.000000</td>\n    </tr>\n  </tbody>\n</table>\n</div>"
     },
     "execution_count": 37,
     "metadata": {},
     "output_type": "execute_result"
    }
   ],
   "source": [
    "polarity_1000000.head()"
   ],
   "metadata": {
    "collapsed": false
   }
  },
  {
   "cell_type": "code",
   "execution_count": 43,
   "outputs": [
    {
     "name": "stderr",
     "output_type": "stream",
     "text": [
      "/var/folders/42/m13vsnkx0qz76w0rdpzc4qb00000gn/T/ipykernel_97905/260745633.py:2: FutureWarning: The frame.append method is deprecated and will be removed from pandas in a future version. Use pandas.concat instead.\n",
      "  .append(polarity_2000000)\\\n",
      "/var/folders/42/m13vsnkx0qz76w0rdpzc4qb00000gn/T/ipykernel_97905/260745633.py:3: FutureWarning: The frame.append method is deprecated and will be removed from pandas in a future version. Use pandas.concat instead.\n",
      "  .append(polarity_3000000)\\\n",
      "/var/folders/42/m13vsnkx0qz76w0rdpzc4qb00000gn/T/ipykernel_97905/260745633.py:4: FutureWarning: The frame.append method is deprecated and will be removed from pandas in a future version. Use pandas.concat instead.\n",
      "  .append(polarity_4000000)\\\n",
      "/var/folders/42/m13vsnkx0qz76w0rdpzc4qb00000gn/T/ipykernel_97905/260745633.py:5: FutureWarning: The frame.append method is deprecated and will be removed from pandas in a future version. Use pandas.concat instead.\n",
      "  .append(polarity_5000000)\\\n",
      "/var/folders/42/m13vsnkx0qz76w0rdpzc4qb00000gn/T/ipykernel_97905/260745633.py:6: FutureWarning: The frame.append method is deprecated and will be removed from pandas in a future version. Use pandas.concat instead.\n",
      "  .append(polarity_6000000)\\\n",
      "/var/folders/42/m13vsnkx0qz76w0rdpzc4qb00000gn/T/ipykernel_97905/260745633.py:7: FutureWarning: The frame.append method is deprecated and will be removed from pandas in a future version. Use pandas.concat instead.\n",
      "  .append(polarity_7000000)\\\n",
      "/var/folders/42/m13vsnkx0qz76w0rdpzc4qb00000gn/T/ipykernel_97905/260745633.py:8: FutureWarning: The frame.append method is deprecated and will be removed from pandas in a future version. Use pandas.concat instead.\n",
      "  .append(polarity_8000000)\\\n",
      "/var/folders/42/m13vsnkx0qz76w0rdpzc4qb00000gn/T/ipykernel_97905/260745633.py:9: FutureWarning: The frame.append method is deprecated and will be removed from pandas in a future version. Use pandas.concat instead.\n",
      "  .append(polarity_9000000)\\\n",
      "/var/folders/42/m13vsnkx0qz76w0rdpzc4qb00000gn/T/ipykernel_97905/260745633.py:10: FutureWarning: The frame.append method is deprecated and will be removed from pandas in a future version. Use pandas.concat instead.\n",
      "  .append(polarity_final)\\\n"
     ]
    }
   ],
   "source": [
    "polarity = polarity_1000000\\\n",
    "    .append(polarity_2000000)\\\n",
    "    .append(polarity_3000000)\\\n",
    "    .append(polarity_4000000)\\\n",
    "    .append(polarity_5000000)\\\n",
    "    .append(polarity_6000000)\\\n",
    "    .append(polarity_7000000)\\\n",
    "    .append(polarity_8000000)\\\n",
    "    .append(polarity_9000000)\\\n",
    "    .append(polarity_final)\\\n",
    "    .reset_index(drop=True)"
   ],
   "metadata": {
    "collapsed": false
   }
  },
  {
   "cell_type": "code",
   "execution_count": 41,
   "outputs": [
    {
     "data": {
      "text/plain": "          0\n0  0.666667\n1  0.700000\n2  0.000000\n3  0.050000\n4  0.000000",
      "text/html": "<div>\n<style scoped>\n    .dataframe tbody tr th:only-of-type {\n        vertical-align: middle;\n    }\n\n    .dataframe tbody tr th {\n        vertical-align: top;\n    }\n\n    .dataframe thead th {\n        text-align: right;\n    }\n</style>\n<table border=\"1\" class=\"dataframe\">\n  <thead>\n    <tr style=\"text-align: right;\">\n      <th></th>\n      <th>0</th>\n    </tr>\n  </thead>\n  <tbody>\n    <tr>\n      <th>0</th>\n      <td>0.666667</td>\n    </tr>\n    <tr>\n      <th>1</th>\n      <td>0.700000</td>\n    </tr>\n    <tr>\n      <th>2</th>\n      <td>0.000000</td>\n    </tr>\n    <tr>\n      <th>3</th>\n      <td>0.050000</td>\n    </tr>\n    <tr>\n      <th>4</th>\n      <td>0.000000</td>\n    </tr>\n  </tbody>\n</table>\n</div>"
     },
     "execution_count": 41,
     "metadata": {},
     "output_type": "execute_result"
    }
   ],
   "source": [
    "polarity.head()"
   ],
   "metadata": {
    "collapsed": false
   }
  },
  {
   "cell_type": "code",
   "execution_count": 44,
   "outputs": [
    {
     "name": "stdout",
     "output_type": "stream",
     "text": [
      "<class 'pandas.core.frame.DataFrame'>\n",
      "RangeIndex: 9635437 entries, 0 to 9635436\n",
      "Data columns (total 1 columns):\n",
      " #   Column  Dtype  \n",
      "---  ------  -----  \n",
      " 0   0       float64\n",
      "dtypes: float64(1)\n",
      "memory usage: 73.5 MB\n"
     ]
    }
   ],
   "source": [
    "polarity.info()"
   ],
   "metadata": {
    "collapsed": false
   }
  },
  {
   "cell_type": "markdown",
   "source": [
    "## Append polarity to the main dataframe\n",
    "Link each polarity score to the corresponding review text."
   ],
   "metadata": {
    "collapsed": false
   }
  },
  {
   "cell_type": "code",
   "execution_count": 48,
   "outputs": [
    {
     "data": {
      "text/plain": "   app_id                  app_name  review_id language  \\\n0  292030  The Witcher 3: Wild Hunt   85184605  english   \n1  292030  The Witcher 3: Wild Hunt   85184171  english   \n2  292030  The Witcher 3: Wild Hunt   85184064  english   \n3  292030  The Witcher 3: Wild Hunt   85180436  english   \n4  292030  The Witcher 3: Wild Hunt   85179753  english   \n\n                                              review  \\\n0  One of the best RPG's of all time, worthy of a...   \n1             good story, good graphics. lots to do.   \n2                                           dis gud,   \n3  favorite game of all time cant wait for the Ne...   \n4                          Why wouldn't you get this   \n\n                                     review_cleaned  \n0      one best rpgs all time worthy any collection  \n1                  good story good graphics lots do  \n2                                           dis gud  \n3  favorite game all time cant wait nexgen versiion  \n4                          why wouldnt you get this  ",
      "text/html": "<div>\n<style scoped>\n    .dataframe tbody tr th:only-of-type {\n        vertical-align: middle;\n    }\n\n    .dataframe tbody tr th {\n        vertical-align: top;\n    }\n\n    .dataframe thead th {\n        text-align: right;\n    }\n</style>\n<table border=\"1\" class=\"dataframe\">\n  <thead>\n    <tr style=\"text-align: right;\">\n      <th></th>\n      <th>app_id</th>\n      <th>app_name</th>\n      <th>review_id</th>\n      <th>language</th>\n      <th>review</th>\n      <th>review_cleaned</th>\n    </tr>\n  </thead>\n  <tbody>\n    <tr>\n      <th>0</th>\n      <td>292030</td>\n      <td>The Witcher 3: Wild Hunt</td>\n      <td>85184605</td>\n      <td>english</td>\n      <td>One of the best RPG's of all time, worthy of a...</td>\n      <td>one best rpgs all time worthy any collection</td>\n    </tr>\n    <tr>\n      <th>1</th>\n      <td>292030</td>\n      <td>The Witcher 3: Wild Hunt</td>\n      <td>85184171</td>\n      <td>english</td>\n      <td>good story, good graphics. lots to do.</td>\n      <td>good story good graphics lots do</td>\n    </tr>\n    <tr>\n      <th>2</th>\n      <td>292030</td>\n      <td>The Witcher 3: Wild Hunt</td>\n      <td>85184064</td>\n      <td>english</td>\n      <td>dis gud,</td>\n      <td>dis gud</td>\n    </tr>\n    <tr>\n      <th>3</th>\n      <td>292030</td>\n      <td>The Witcher 3: Wild Hunt</td>\n      <td>85180436</td>\n      <td>english</td>\n      <td>favorite game of all time cant wait for the Ne...</td>\n      <td>favorite game all time cant wait nexgen versiion</td>\n    </tr>\n    <tr>\n      <th>4</th>\n      <td>292030</td>\n      <td>The Witcher 3: Wild Hunt</td>\n      <td>85179753</td>\n      <td>english</td>\n      <td>Why wouldn't you get this</td>\n      <td>why wouldnt you get this</td>\n    </tr>\n  </tbody>\n</table>\n</div>"
     },
     "execution_count": 48,
     "metadata": {},
     "output_type": "execute_result"
    }
   ],
   "source": [
    "df.head()"
   ],
   "metadata": {
    "collapsed": false
   }
  },
  {
   "cell_type": "code",
   "execution_count": 50,
   "outputs": [
    {
     "name": "stdout",
     "output_type": "stream",
     "text": [
      "<class 'pandas.core.frame.DataFrame'>\n",
      "Int64Index: 9635437 entries, 0 to 9635436\n",
      "Data columns (total 6 columns):\n",
      " #   Column          Dtype \n",
      "---  ------          ----- \n",
      " 0   app_id          int64 \n",
      " 1   app_name        object\n",
      " 2   review_id       int64 \n",
      " 3   language        object\n",
      " 4   review          object\n",
      " 5   review_cleaned  object\n",
      "dtypes: int64(2), object(4)\n",
      "memory usage: 514.6+ MB\n"
     ]
    }
   ],
   "source": [
    "df.info()"
   ],
   "metadata": {
    "collapsed": false
   }
  },
  {
   "cell_type": "code",
   "execution_count": 51,
   "outputs": [
    {
     "data": {
      "text/plain": "   app_id                  app_name  review_id language  \\\n0  292030  The Witcher 3: Wild Hunt   85184605  english   \n1  292030  The Witcher 3: Wild Hunt   85184171  english   \n2  292030  The Witcher 3: Wild Hunt   85184064  english   \n3  292030  The Witcher 3: Wild Hunt   85180436  english   \n4  292030  The Witcher 3: Wild Hunt   85179753  english   \n\n                                              review  \\\n0  One of the best RPG's of all time, worthy of a...   \n1             good story, good graphics. lots to do.   \n2                                           dis gud,   \n3  favorite game of all time cant wait for the Ne...   \n4                          Why wouldn't you get this   \n\n                                     review_cleaned  polarity  \n0      one best rpgs all time worthy any collection  0.666667  \n1                  good story good graphics lots do  0.700000  \n2                                           dis gud  0.000000  \n3  favorite game all time cant wait nexgen versiion  0.050000  \n4                          why wouldnt you get this  0.000000  ",
      "text/html": "<div>\n<style scoped>\n    .dataframe tbody tr th:only-of-type {\n        vertical-align: middle;\n    }\n\n    .dataframe tbody tr th {\n        vertical-align: top;\n    }\n\n    .dataframe thead th {\n        text-align: right;\n    }\n</style>\n<table border=\"1\" class=\"dataframe\">\n  <thead>\n    <tr style=\"text-align: right;\">\n      <th></th>\n      <th>app_id</th>\n      <th>app_name</th>\n      <th>review_id</th>\n      <th>language</th>\n      <th>review</th>\n      <th>review_cleaned</th>\n      <th>polarity</th>\n    </tr>\n  </thead>\n  <tbody>\n    <tr>\n      <th>0</th>\n      <td>292030</td>\n      <td>The Witcher 3: Wild Hunt</td>\n      <td>85184605</td>\n      <td>english</td>\n      <td>One of the best RPG's of all time, worthy of a...</td>\n      <td>one best rpgs all time worthy any collection</td>\n      <td>0.666667</td>\n    </tr>\n    <tr>\n      <th>1</th>\n      <td>292030</td>\n      <td>The Witcher 3: Wild Hunt</td>\n      <td>85184171</td>\n      <td>english</td>\n      <td>good story, good graphics. lots to do.</td>\n      <td>good story good graphics lots do</td>\n      <td>0.700000</td>\n    </tr>\n    <tr>\n      <th>2</th>\n      <td>292030</td>\n      <td>The Witcher 3: Wild Hunt</td>\n      <td>85184064</td>\n      <td>english</td>\n      <td>dis gud,</td>\n      <td>dis gud</td>\n      <td>0.000000</td>\n    </tr>\n    <tr>\n      <th>3</th>\n      <td>292030</td>\n      <td>The Witcher 3: Wild Hunt</td>\n      <td>85180436</td>\n      <td>english</td>\n      <td>favorite game of all time cant wait for the Ne...</td>\n      <td>favorite game all time cant wait nexgen versiion</td>\n      <td>0.050000</td>\n    </tr>\n    <tr>\n      <th>4</th>\n      <td>292030</td>\n      <td>The Witcher 3: Wild Hunt</td>\n      <td>85179753</td>\n      <td>english</td>\n      <td>Why wouldn't you get this</td>\n      <td>why wouldnt you get this</td>\n      <td>0.000000</td>\n    </tr>\n  </tbody>\n</table>\n</div>"
     },
     "execution_count": 51,
     "metadata": {},
     "output_type": "execute_result"
    }
   ],
   "source": [
    "df['polarity'] = polarity\n",
    "df.head()"
   ],
   "metadata": {
    "collapsed": false
   }
  },
  {
   "cell_type": "markdown",
   "source": [
    "## Save the results in a file\n",
    "Drop the 'review' column as its causing issues in a csv file due to the 'review' column data containing commas."
   ],
   "metadata": {
    "collapsed": false
   }
  },
  {
   "cell_type": "code",
   "execution_count": 13,
   "outputs": [
    {
     "data": {
      "text/plain": "   app_id                  app_name  review_id language  timestamp_created  \\\n0  292030  The Witcher 3: Wild Hunt   85184605  english         1611379970   \n1  292030  The Witcher 3: Wild Hunt   85184171  english         1611379264   \n2  292030  The Witcher 3: Wild Hunt   85184064  english         1611379091   \n3  292030  The Witcher 3: Wild Hunt   85180436  english         1611373086   \n4  292030  The Witcher 3: Wild Hunt   85179753  english         1611371978   \n\n   polarity                                    review_cleaned  \n0  0.666667      one best rpgs all time worthy any collection  \n1  0.700000                  good story good graphics lots do  \n2  0.000000                                           dis gud  \n3  0.050000  favorite game all time cant wait nexgen versiion  \n4  0.000000                          why wouldnt you get this  ",
      "text/html": "<div>\n<style scoped>\n    .dataframe tbody tr th:only-of-type {\n        vertical-align: middle;\n    }\n\n    .dataframe tbody tr th {\n        vertical-align: top;\n    }\n\n    .dataframe thead th {\n        text-align: right;\n    }\n</style>\n<table border=\"1\" class=\"dataframe\">\n  <thead>\n    <tr style=\"text-align: right;\">\n      <th></th>\n      <th>app_id</th>\n      <th>app_name</th>\n      <th>review_id</th>\n      <th>language</th>\n      <th>timestamp_created</th>\n      <th>polarity</th>\n      <th>review_cleaned</th>\n    </tr>\n  </thead>\n  <tbody>\n    <tr>\n      <th>0</th>\n      <td>292030</td>\n      <td>The Witcher 3: Wild Hunt</td>\n      <td>85184605</td>\n      <td>english</td>\n      <td>1611379970</td>\n      <td>0.666667</td>\n      <td>one best rpgs all time worthy any collection</td>\n    </tr>\n    <tr>\n      <th>1</th>\n      <td>292030</td>\n      <td>The Witcher 3: Wild Hunt</td>\n      <td>85184171</td>\n      <td>english</td>\n      <td>1611379264</td>\n      <td>0.700000</td>\n      <td>good story good graphics lots do</td>\n    </tr>\n    <tr>\n      <th>2</th>\n      <td>292030</td>\n      <td>The Witcher 3: Wild Hunt</td>\n      <td>85184064</td>\n      <td>english</td>\n      <td>1611379091</td>\n      <td>0.000000</td>\n      <td>dis gud</td>\n    </tr>\n    <tr>\n      <th>3</th>\n      <td>292030</td>\n      <td>The Witcher 3: Wild Hunt</td>\n      <td>85180436</td>\n      <td>english</td>\n      <td>1611373086</td>\n      <td>0.050000</td>\n      <td>favorite game all time cant wait nexgen versiion</td>\n    </tr>\n    <tr>\n      <th>4</th>\n      <td>292030</td>\n      <td>The Witcher 3: Wild Hunt</td>\n      <td>85179753</td>\n      <td>english</td>\n      <td>1611371978</td>\n      <td>0.000000</td>\n      <td>why wouldnt you get this</td>\n    </tr>\n  </tbody>\n</table>\n</div>"
     },
     "execution_count": 13,
     "metadata": {},
     "output_type": "execute_result"
    }
   ],
   "source": [
    "df.drop('review', axis=1, inplace=True)\n",
    "df.head()"
   ],
   "metadata": {
    "collapsed": false
   }
  },
  {
   "cell_type": "code",
   "execution_count": 14,
   "outputs": [],
   "source": [
    "df.to_csv('sentiment_analysis_results_english.csv')"
   ],
   "metadata": {
    "collapsed": false
   }
  },
  {
   "cell_type": "markdown",
   "source": [
    "## Visualisation of the results (Exploratory)\n",
    "Visualise the polarity ratio among the entire set of english reviews."
   ],
   "metadata": {
    "collapsed": false
   }
  },
  {
   "cell_type": "code",
   "execution_count": 18,
   "outputs": [],
   "source": [
    "polarity = pd.Series(df['polarity'])"
   ],
   "metadata": {
    "collapsed": false
   }
  },
  {
   "cell_type": "code",
   "execution_count": 12,
   "outputs": [
    {
     "name": "stdout",
     "output_type": "stream",
     "text": [
      "Positive:  5830759\n",
      "Negative:  2079037\n",
      "Neutral 1725641\n"
     ]
    }
   ],
   "source": [
    "positive = 0\n",
    "negative = 0\n",
    "neutral = 0\n",
    "\n",
    "for i in polarity:\n",
    "    if i > 0:\n",
    "        positive = positive + 1\n",
    "    elif i < 0:\n",
    "        negative = negative + 1\n",
    "    else:\n",
    "        neutral = neutral + 1\n",
    "\n",
    "print('Positive: ', positive)\n",
    "print('Negative: ', negative)\n",
    "print('Neutral', neutral)"
   ],
   "metadata": {
    "collapsed": false
   }
  },
  {
   "cell_type": "code",
   "execution_count": 13,
   "outputs": [
    {
     "data": {
      "text/plain": "<Figure size 640x480 with 1 Axes>",
      "image/png": "[encoded data removed]"
     },
     "metadata": {},
     "output_type": "display_data"
    }
   ],
   "source": [
    "pieLabels=[\"Positive\",\"Negative\",\"Neutral\"]\n",
    "populationShare=[positive, negative, neutral]\n",
    "figureObject, axesObject = plt.subplots()\n",
    "axesObject.pie(populationShare, labels=pieLabels, autopct='%1.2f', startangle=90)\n",
    "axesObject.axis('equal')\n",
    "plt.show()"
   ],
   "metadata": {
    "collapsed": false
   }
  },
  {
   "cell_type": "code",
   "execution_count": null,
   "outputs": [],
   "source": [],
   "metadata": {
    "collapsed": false
   }
  }
 ],
 "metadata": {
  "kernelspec": {
   "display_name": "Python 3",
   "language": "python",
   "name": "python3"
  },
  "language_info": {
   "codemirror_mode": {
    "name": "ipython",
    "version": 2
   },
   "file_extension": ".py",
   "mimetype": "text/x-python",
   "name": "python",
   "nbconvert_exporter": "python",
   "pygments_lexer": "ipython2",
   "version": "2.7.6"
  }
 },
 "nbformat": 4,
 "nbformat_minor": 0
}
